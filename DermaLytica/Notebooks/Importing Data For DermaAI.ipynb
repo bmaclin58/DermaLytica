{
 "cells": [
  {
   "metadata": {},
   "cell_type": "markdown",
   "source": [
    "# Metadata loading & Analysis\n",
    "\n",
    "Before we start looking at the photos, let's gather a few datasets and evaluate the demographic metadata that we have.  For the purposes of this project, we're going to focus on age, gender, and the location of the skin lesion.\n",
    "We'll focus on the following datasets\n",
    "- [BCN 20000](https://www.nature.com/articles/s41597-024-03387-w)\n",
    "- [HAM10000](https://dataverse.harvard.edu/dataset.xhtml?persistentId=doi:10.7910/DVN/DBW86T)\n",
    "- [ISIC 2024](https://challenge2024.isic-archive.com/)\n",
    "- [Hospital Italiano de Buenos Aires Skin Lesions](https://www.nature.com/articles/s41597-023-02630-0)"
   ],
   "id": "3783a72b7d7de02b"
  },
  {
   "metadata": {},
   "cell_type": "markdown",
   "source": "To install the isic Datasets we will use their CLI\n",
   "id": "e29bc7463aaa1c50"
  },
  {
   "metadata": {},
   "cell_type": "code",
   "outputs": [],
   "execution_count": null,
   "source": "!pip install isic-cli",
   "id": "bca93fc21a761b34"
  },
  {
   "metadata": {},
   "cell_type": "markdown",
   "source": [
    "# Dataset Downloads\n",
    "\n",
    "International Skin Imaging Collaboration (ISIC) archive is a massive resource for images and metadata for our project.  Let's take a quick look at the available data."
   ],
   "id": "1b180ad3c73dc3d0"
  },
  {
   "metadata": {},
   "cell_type": "code",
   "outputs": [],
   "execution_count": null,
   "source": [
    "import pandas as pd\n",
    "import numpy as np\n",
    "import matplotlib.pyplot as plt\n",
    "import seaborn as sns\n",
    "import os"
   ],
   "id": "45bacad633bd1a41"
  },
  {
   "metadata": {},
   "cell_type": "code",
   "outputs": [],
   "execution_count": null,
   "source": "!isic collection list",
   "id": "3442eee04499d147"
  },
  {
   "metadata": {},
   "cell_type": "code",
   "outputs": [],
   "execution_count": null,
   "source": [
    "os.makedirs(r'E:\\Capstone Skin Cancer Project\\Datasets\\BCN\\MetaData', exist_ok=True)\n",
    "BCN_id = 249\n",
    "!isic metadata download -c {BCN_id} -o \"E:\\Capstone Skin Cancer Project\\Datasets\\BCN\\MetaData\\BCN_Metadata.csv\""
   ],
   "id": "8d0e9b4199be0dec"
  },
  {
   "metadata": {},
   "cell_type": "code",
   "outputs": [],
   "execution_count": null,
   "source": [
    "os.makedirs(r'E:\\Capstone Skin Cancer Project\\Datasets\\BCN\\Image', exist_ok=True)\n",
    "!isic image download --collections {BCN_id} \"E:\\Capstone Skin Cancer Project\\Datasets\\BCN\\Image\""
   ],
   "id": "3de0125b877f68da"
  },
  {
   "metadata": {},
   "cell_type": "code",
   "outputs": [],
   "execution_count": null,
   "source": [
    "os.makedirs(r'E:\\Capstone Skin Cancer Project\\Datasets\\HAM\\MetaData', exist_ok=True)\n",
    "HAM_id = 212\n",
    "!isic metadata download -c {HAM_id} -o \"E:\\Capstone Skin Cancer Project\\Datasets\\HAM\\MetaData\\HAM_Metadata.csv\""
   ],
   "id": "8a2cb3746d3a1327"
  },
  {
   "metadata": {},
   "cell_type": "code",
   "outputs": [],
   "execution_count": null,
   "source": [
    "os.makedirs(r'E:\\Capstone Skin Cancer Project\\Datasets\\HAM\\Image', exist_ok=True)\n",
    "!isic image download --collections {HAM_id} \"E:\\Capstone Skin Cancer Project\\Datasets\\HAM\\Image\""
   ],
   "id": "fc439e3c0f75c00"
  },
  {
   "metadata": {},
   "cell_type": "code",
   "outputs": [],
   "execution_count": null,
   "source": [
    "os.makedirs(r'E:\\Capstone Skin Cancer Project\\Datasets\\BuenosAires\\MetaData', exist_ok=True)\n",
    "BA_id = 390\n",
    "!isic metadata download -c {BA_id} -o \"E:\\Capstone Skin Cancer Project\\Datasets\\BuenosAires\\MetaData\\BA_Metadata.csv\""
   ],
   "id": "6bd29c705b8f8c78"
  },
  {
   "metadata": {},
   "cell_type": "code",
   "outputs": [],
   "execution_count": null,
   "source": [
    "os.makedirs(r'E:\\Capstone Skin Cancer Project\\Datasets\\BuenosAires\\Image', exist_ok=True)\n",
    "!isic image download --collections {BA_id} \"E:\\Capstone Skin Cancer Project\\Datasets\\BuenosAires\\Image\""
   ],
   "id": "7c88e124f8aa9e4b"
  },
  {
   "metadata": {},
   "cell_type": "code",
   "outputs": [],
   "execution_count": null,
   "source": [
    "os.makedirs(r'E:\\Capstone Skin Cancer Project\\Datasets\\Braff\\MetaData', exist_ok=True)\n",
    "Braff_id = 410\n",
    "!isic metadata download -c {Braff_id} -o \"E:\\Capstone Skin Cancer Project\\Datasets\\Braff\\MetaData\\Braff_Metadata.csv\""
   ],
   "id": "61669d460a1b7296"
  },
  {
   "metadata": {},
   "cell_type": "code",
   "outputs": [],
   "execution_count": null,
   "source": [
    "os.makedirs(r'E:\\Capstone Skin Cancer Project\\Datasets\\Braff\\Image', exist_ok=True)\n",
    "!isic image download --collections {Braff_id} \"E:\\Capstone Skin Cancer Project\\Datasets\\Braff\\Image\""
   ],
   "id": "3f3b8fee2e42a2c0"
  },
  {
   "metadata": {},
   "cell_type": "code",
   "outputs": [],
   "execution_count": null,
   "source": [
    "os.makedirs(r'E:\\Capstone Skin Cancer Project\\Datasets\\Melo\\MetaData', exist_ok=True)\n",
    "melo_id = 294\n",
    "!isic metadata download -c {melo_id} -o \"E:\\Capstone Skin Cancer Project\\Datasets\\Melo\\MetaData\\Melo_Metadata.csv\""
   ],
   "id": "931ab959c010557a"
  },
  {
   "metadata": {},
   "cell_type": "code",
   "outputs": [],
   "execution_count": null,
   "source": [
    "os.makedirs(r'E:\\Capstone Skin Cancer Project\\Datasets\\Melo\\Image', exist_ok=True)\n",
    "!isic image download --collections {melo_id} \"E:\\Capstone Skin Cancer Project\\Datasets\\Melo\\Image\""
   ],
   "id": "1a0fff96d2e28456"
  },
  {
   "metadata": {},
   "cell_type": "markdown",
   "source": [
    "Lets\n",
    "take\n",
    "a\n",
    "look\n",
    "at\n",
    "the\n",
    "data\n",
    "columns\n",
    "that\n",
    "we\n",
    "currently\n",
    "have, then\n",
    "clean\n",
    "the\n",
    "data\n",
    "up\n",
    "so\n",
    "we\n",
    "can\n",
    "keep\n",
    "the\n",
    "items\n",
    "that\n",
    "we\n",
    "will\n",
    "be\n",
    "looking\n",
    "for to see if there's any correlation between the data points and cancer."
   ],
   "id": "57e33a4fde0ddbc9"
  }
 ],
 "metadata": {
  "kernelspec": {
   "display_name": "Python 3",
   "language": "python",
   "name": "python3"
  },
  "language_info": {
   "codemirror_mode": {
    "name": "ipython",
    "version": 2
   },
   "file_extension": ".py",
   "mimetype": "text/x-python",
   "name": "python",
   "nbconvert_exporter": "python",
   "pygments_lexer": "ipython2",
   "version": "2.7.6"
  }
 },
 "nbformat": 4,
 "nbformat_minor": 5
}

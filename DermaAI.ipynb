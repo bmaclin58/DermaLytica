{
 "cells": [
  {
   "metadata": {},
   "cell_type": "markdown",
   "source": [
    "Let's gather a few datasets from the ISIC database\n",
    "# Libraries"
   ],
   "id": "a8d9cdd37359abbf"
  },
  {
   "cell_type": "code",
   "id": "initial_id",
   "metadata": {
    "collapsed": true
   },
   "source": [
    "import pandas as pd\n",
    "import numpy as np\n",
    "import matplotlib.pyplot as plt\n",
    "import seaborn as sns\n",
    "import os"
   ],
   "outputs": [],
   "execution_count": null
  },
  {
   "metadata": {},
   "cell_type": "markdown",
   "source": "To install the isic Datasets we will use their CLI",
   "id": "c6a162276a572d6d"
  },
  {
   "metadata": {},
   "cell_type": "code",
   "source": "!pip install isic-cli",
   "id": "52a070178fd23f3f",
   "outputs": [],
   "execution_count": null
  },
  {
   "metadata": {},
   "cell_type": "markdown",
   "source": [
    "# Metadata loading & Analysis\n",
    "\n",
    "Before we start looking at the photos, let's gather a few datasets and evaluate the demographic metadata that we have.  For the purposes of this project, we're going to focus on age, gender, and the location of the skin lesion.\n",
    "We'll focus on the following datasets\n",
    "- [BCN 20000](https://www.nature.com/articles/s41597-024-03387-w)\n",
    "- [HAM10000](https://dataverse.harvard.edu/dataset.xhtml?persistentId=doi:10.7910/DVN/DBW86T)\n",
    "- [ISIC 2024](https://challenge2024.isic-archive.com/)\n",
    "- [Hospital Italiano de Buenos Aires Skin Lesions](https://www.nature.com/articles/s41597-023-02630-0)"
   ],
   "id": "586f5aa6a450475"
  },
  {
   "metadata": {},
   "cell_type": "markdown",
   "source": [
    "# Dataset Downloads\n",
    "\n",
    "International Skin Imaging Collaboration (ISIC) archive is a massive resource for images and metadata for our project.  Let's take a quick look at the available data."
   ],
   "id": "d3241c5cf697ce57"
  },
  {
   "metadata": {},
   "cell_type": "code",
   "source": "!isic collection list",
   "id": "319244184899734b",
   "outputs": [],
   "execution_count": null
  },
  {
   "metadata": {},
   "cell_type": "code",
   "source": [
    "os.makedirs(r'E:\\Capstone Skin Cancer Project\\Datasets\\BCN\\MetaData', exist_ok=True)\n",
    "BCN_id = 249\n",
    "!isic metadata download -c {BCN_id} -o \"E:\\Capstone Skin Cancer Project\\Datasets\\BCN\\MetaData\\BCN_Metadata.csv\""
   ],
   "id": "3f315f5f6c0058d2",
   "outputs": [],
   "execution_count": null
  },
  {
   "metadata": {},
   "cell_type": "code",
   "source": [
    "os.makedirs(r'E:\\Capstone Skin Cancer Project\\Datasets\\BCN\\Image', exist_ok=True)\n",
    "!isic image download --collections {BCN_id} \"E:\\Capstone Skin Cancer Project\\Datasets\\BCN\\Image\""
   ],
   "id": "b9f59f3fbf822a23",
   "outputs": [],
   "execution_count": null
  },
  {
   "metadata": {},
   "cell_type": "code",
   "source": [
    "os.makedirs(r'E:\\Capstone Skin Cancer Project\\Datasets\\HAM\\MetaData', exist_ok=True)\n",
    "HAM_id = 212\n",
    "!isic metadata download -c {HAM_id} -o \"E:\\Capstone Skin Cancer Project\\Datasets\\HAM\\MetaData\\HAM_Metadata.csv\""
   ],
   "id": "925f6ba3628c0689",
   "outputs": [],
   "execution_count": null
  },
  {
   "metadata": {},
   "cell_type": "code",
   "source": [
    "os.makedirs(r'E:\\Capstone Skin Cancer Project\\Datasets\\HAM\\Image', exist_ok=True)\n",
    "!isic image download --collections {HAM_id} \"E:\\Capstone Skin Cancer Project\\Datasets\\HAM\\Image\""
   ],
   "id": "56366b7c355460c3",
   "outputs": [],
   "execution_count": null
  },
  {
   "metadata": {},
   "cell_type": "code",
   "source": [
    "os.makedirs(r'E:\\Capstone Skin Cancer Project\\Datasets\\BuenosAires\\MetaData', exist_ok=True)\n",
    "BA_id = 390\n",
    "!isic metadata download -c {BA_id} -o \"E:\\Capstone Skin Cancer Project\\Datasets\\BuenosAires\\MetaData\\BA_Metadata.csv\""
   ],
   "id": "dbf4b46d9205e1cc",
   "outputs": [],
   "execution_count": null
  },
  {
   "metadata": {
    "jupyter": {
     "is_executing": true
    },
    "ExecuteTime": {
     "start_time": "2025-02-21T07:03:00.578016Z"
    }
   },
   "cell_type": "code",
   "source": [
    "os.makedirs(r'E:\\Capstone Skin Cancer Project\\Datasets\\BuenosAires\\Image', exist_ok=True)\n",
    "!isic image download --collections {BA_id} \"E:\\Capstone Skin Cancer Project\\Datasets\\BuenosAires\\Image\""
   ],
   "id": "5ad210097b21aeaf",
   "outputs": [],
   "execution_count": null
  },
  {
   "metadata": {},
   "cell_type": "code",
   "source": [
    "os.makedirs(r'E:\\Capstone Skin Cancer Project\\Datasets\\Braff\\MetaData', exist_ok=True)\n",
    "Braff_id = 410\n",
    "!isic metadata download -c {Braff_id} -o \"E:\\Capstone Skin Cancer Project\\Datasets\\Braff\\MetaData\\Braff_Metadata.csv\""
   ],
   "id": "37733afa2d76637f",
   "outputs": [],
   "execution_count": null
  },
  {
   "metadata": {},
   "cell_type": "code",
   "source": [
    "os.makedirs(r'E:\\Capstone Skin Cancer Project\\Datasets\\Braff\\Image', exist_ok=True)\n",
    "!isic image download --collections {Braff_id} \"E:\\Capstone Skin Cancer Project\\Datasets\\Braff\\Image\""
   ],
   "id": "80a233b50a03d792",
   "outputs": [],
   "execution_count": null
  },
  {
   "metadata": {},
   "cell_type": "code",
   "source": [
    "os.makedirs(r'E:\\Capstone Skin Cancer Project\\Datasets\\Melo\\MetaData', exist_ok=True)\n",
    "melo_id = 294\n",
    "!isic metadata download -c {melo_id} -o \"E:\\Capstone Skin Cancer Project\\Datasets\\Melo\\MetaData\\Melo_Metadata.csv\""
   ],
   "id": "ccab3208809d1dfa",
   "outputs": [],
   "execution_count": null
  },
  {
   "metadata": {},
   "cell_type": "code",
   "source": [
    "os.makedirs(r'E:\\Capstone Skin Cancer Project\\Datasets\\Melo\\Image', exist_ok=True)\n",
    "!isic image download --collections {melo_id} \"E:\\Capstone Skin Cancer Project\\Datasets\\Melo\\Image\""
   ],
   "id": "a39bd218245c6176",
   "outputs": [
    {
     "name": "stdout",
     "output_type": "stream",
     "text": [
      "^C\n"
     ]
    }
   ],
   "execution_count": 54
  },
  {
   "metadata": {},
   "cell_type": "markdown",
   "source": "Lets take a look at the data columns that we currently have, then clean the data up so we can keep the items that we will be looking for to see if there's any correlation between the data points and cancer.",
   "id": "83e60d82cc22151c"
  },
  {
   "metadata": {},
   "cell_type": "code",
   "source": [
    "BCN = pd.read_csv(r'E:\\Capstone Skin Cancer Project\\Datasets\\BCN\\MetaData\\BCN_Metadata.csv')\n",
    "BCN.head(5)"
   ],
   "id": "1992f30994541104",
   "outputs": [],
   "execution_count": null
  },
  {
   "metadata": {},
   "cell_type": "code",
   "source": [
    "HAM = pd.read_csv(r'E:\\Capstone Skin Cancer Project\\Datasets\\HAM\\MetaData\\HAM_Metadata.csv')\n",
    "HAM.head(5)"
   ],
   "id": "df9b9addf25afbbc",
   "outputs": [],
   "execution_count": null
  },
  {
   "metadata": {},
   "cell_type": "code",
   "source": [
    "BA = pd.read_csv(r'E:\\Capstone Skin Cancer Project\\Datasets\\BuenosAires\\MetaData\\BA_Metadata.csv')\n",
    "BA.head(5)"
   ],
   "id": "86ed3be7cc4f2765",
   "outputs": [],
   "execution_count": null
  },
  {
   "metadata": {},
   "cell_type": "code",
   "source": [
    "BRAFF = pd.read_csv(r'E:\\Capstone Skin Cancer Project\\Datasets\\Braff\\MetaData\\Braff_Metadata.csv')\n",
    "BRAFF.head(5)"
   ],
   "id": "afe39f682383f0c5",
   "outputs": [],
   "execution_count": null
  },
  {
   "metadata": {},
   "cell_type": "code",
   "source": [
    "MELO = pd.read_csv(r'E:\\Capstone Skin Cancer Project\\Datasets\\Melo\\MetaData\\Melo_Metadata.csv')\n",
    "MELO.head(5)"
   ],
   "id": "1f40518d176f6ba7",
   "outputs": [],
   "execution_count": null
  },
  {
   "metadata": {},
   "cell_type": "markdown",
   "source": "After all data has been read, we'll make a function to format all of the data",
   "id": "36a1f6048e70e095"
  },
  {
   "metadata": {},
   "cell_type": "code",
   "source": [
    "columns_to_keep = ['isic_id', 'age_approx', 'sex','anatom_site_general','diagnosis_1', 'diagnosis']\n",
    "\n",
    "def dataFormatting (table):\n",
    "\t# Update 'diagnosis' column if it's blank by using the value from 'diagnosis_1'\n",
    "\ttable.loc[table['diagnosis'].isna(), 'diagnosis'] = table['diagnosis_1']\n",
    "\n",
    "\ttable = table.dropna(subset=columns_to_keep) # Drop any columns that don't have the data we need.\n",
    "\n",
    "\tformatted_table = table[columns_to_keep]\n",
    "\tformatted_table = formatted_table.rename(columns={'age_approx': 'Age',\n",
    "\t                                            'sex':'Gender',\n",
    "\t                                            'anatom_site_general': 'Location',\n",
    "\t                                            'diagnosis_1': 'Benign/Malignant',\n",
    "\t                                            'diagnosis': 'Diagnosis'\n",
    "\t                                            })\n",
    "\n",
    "\tformatted_table['Age'] = formatted_table['Age'].astype(int)\n",
    "\treturn formatted_table"
   ],
   "id": "d0b72bcb5451b8d2",
   "outputs": [],
   "execution_count": null
  },
  {
   "metadata": {},
   "cell_type": "markdown",
   "source": "Lets make one more helper function to find out how many rows are in each table",
   "id": "714f79aa3c3e2454"
  },
  {
   "metadata": {},
   "cell_type": "code",
   "source": [
    "def rowCount(tables):\n",
    "\t\tfor name, table in tables.items():\n",
    "\t\t\tprint(f\"{name} has {table.shape[0]} rows\")\n",
    "\t\ttotal_rows = sum(table.shape[0] for table in tables.values())\n",
    "\t\tprint(f\"There are a total of {total_rows} rows in all tables\")"
   ],
   "id": "1eec5eab8b4c5d85",
   "outputs": [],
   "execution_count": null
  },
  {
   "metadata": {},
   "cell_type": "code",
   "source": [
    "formatted_BCN = dataFormatting(BCN)\n",
    "formatted_BCN.head(5)"
   ],
   "id": "9237012141154a12",
   "outputs": [],
   "execution_count": null
  },
  {
   "metadata": {},
   "cell_type": "code",
   "source": [
    "formatted_HAM = dataFormatting(HAM)\n",
    "formatted_BCN.head(5)"
   ],
   "id": "90717bd31007b014",
   "outputs": [],
   "execution_count": null
  },
  {
   "metadata": {},
   "cell_type": "code",
   "source": [
    "formatted_MELO = dataFormatting(MELO)\n",
    "formatted_BCN.head(5)"
   ],
   "id": "f13363100c9aa54b",
   "outputs": [],
   "execution_count": null
  },
  {
   "metadata": {},
   "cell_type": "code",
   "source": [
    "formatted_BA = dataFormatting(BA)\n",
    "formatted_BA.head(5)"
   ],
   "id": "5d85818dc6f1b120",
   "outputs": [],
   "execution_count": null
  },
  {
   "metadata": {},
   "cell_type": "code",
   "source": [
    "formatted_BRAFF = dataFormatting(BRAFF)\n",
    "formatted_BCN.head(5)"
   ],
   "id": "3ba7c81d45ebf9be",
   "outputs": [],
   "execution_count": null
  },
  {
   "metadata": {},
   "cell_type": "code",
   "source": [
    "tables = {\n",
    "\t\t\"BCN\":  formatted_BCN,\n",
    "\t\t\"HAM\":  formatted_HAM,\n",
    "\t\t\"MELO\": formatted_MELO,\n",
    "\t\t\"BRAFF\": formatted_BRAFF,\n",
    "\t\t\"BA\":   formatted_BA\n",
    "}\n",
    "rowCount(tables)"
   ],
   "id": "6df13c44d1ffe678",
   "outputs": [],
   "execution_count": null
  },
  {
   "metadata": {},
   "cell_type": "code",
   "source": [
    "# Group data by 'Gender' and 'Benign/Malignant' and count occurrences\n",
    "gender_bm_counts = formatted_ISIC.groupby([\n",
    "\t\t'Gender',\n",
    "\t\t'Benign/Malignant']).size().reset_index(name='Count')\n",
    "\n",
    "# Create the bar plot\n",
    "ax = sns.barplot(\n",
    "\t\tdata=gender_bm_counts,\n",
    "\t\tx='Benign/Malignant',\n",
    "\t\ty='Count',\n",
    "\t\thue='Gender',\n",
    "\t\tpalette=['#FBE8A1', '#FFDCF4']\n",
    ")\n",
    "\n",
    "# Add bar labels\n",
    "for bar in ax.patches:\n",
    "\tcount = int(bar.get_height())\n",
    "\tax.text(\n",
    "\t\t\tbar.get_x() + bar.get_width() / 2,\n",
    "\t\t\tcount,\n",
    "\t\t\tf\"{count}\",\n",
    "\t\t\tha='center',\n",
    "\t\t\tva='bottom',\n",
    "\t\t\tfontsize=10,\n",
    "\t\t\tcolor='black'\n",
    "\t)\n",
    "\n",
    "# Add legend with proper title\n",
    "plt.legend(title=\"Gender\", loc='upper right')\n",
    "\n",
    "# Add axis labels and title\n",
    "plt.xlabel(\"\")\n",
    "plt.ylabel(\"Count\")\n",
    "plt.title(\"Count of Gender per Benign and Malignant Categories\")\n",
    "\n",
    "# Show the plot\n",
    "plt.show()\n"
   ],
   "id": "e29b18a75a08dbd4",
   "outputs": [],
   "execution_count": null
  },
  {
   "metadata": {},
   "cell_type": "code",
   "source": "",
   "id": "79c6f5b5756e1bdb",
   "outputs": [],
   "execution_count": null
  },
  {
   "metadata": {},
   "cell_type": "code",
   "source": "!isic image download --collections {ISIC_id} r'E:\\Capstone Skin Cancer Project\\Datasets\\ISIC 2024\\Images\\'",
   "id": "c9aef7beae0522eb",
   "outputs": [],
   "execution_count": null
  },
  {
   "metadata": {},
   "cell_type": "code",
   "source": "!isic image download --collections {ISIC_id} r'E:\\Capstone Skin Cancer Project\\Datasets\\ISIC 2024\\Images\\'",
   "id": "198cd5bfc3b1013b",
   "outputs": [],
   "execution_count": null
  },
  {
   "metadata": {},
   "cell_type": "code",
   "source": "!isic image download --collections {ISIC_id} r'E:\\Capstone Skin Cancer Project\\Datasets\\ISIC 2024\\Images\\'",
   "id": "81c8b9467377dce4",
   "outputs": [],
   "execution_count": null
  },
  {
   "metadata": {},
   "cell_type": "code",
   "source": "!isic image download --collections {ISIC_id} r'E:\\Capstone Skin Cancer Project\\Datasets\\ISIC 2024\\Images\\'",
   "id": "41e4d217f53e908",
   "outputs": [],
   "execution_count": null
  }
 ],
 "metadata": {
  "kernelspec": {
   "display_name": "Python 3",
   "language": "python",
   "name": "python3"
  },
  "language_info": {
   "codemirror_mode": {
    "name": "ipython",
    "version": 2
   },
   "file_extension": ".py",
   "mimetype": "text/x-python",
   "name": "python",
   "nbconvert_exporter": "python",
   "pygments_lexer": "ipython2",
   "version": "2.7.6"
  }
 },
 "nbformat": 4,
 "nbformat_minor": 5
}
